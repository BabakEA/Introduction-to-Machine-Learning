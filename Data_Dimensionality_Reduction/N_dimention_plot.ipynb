{
 "cells": [
  {
   "cell_type": "code",
   "execution_count": 15,
   "id": "d1c22585",
   "metadata": {},
   "outputs": [],
   "source": [
    "import pandas as pd\n",
    "import plotly\n",
    "import plotly.graph_objs as go\n",
    "from sklearn.preprocessing import MinMaxScaler\n",
    "\n",
    "\n",
    "\n"
   ]
  },
  {
   "cell_type": "code",
   "execution_count": 16,
   "id": "f00496a9",
   "metadata": {},
   "outputs": [],
   "source": [
    "from sklearn.datasets import load_iris\n",
    "iris = load_iris()\n",
    "\n",
    "from sklearn.datasets import load_wine\n",
    "scaler = MinMaxScaler()\n",
    "WINE=load_wine()\n",
    "WINE.data = scaler.fit_transform(WINE.data.astype(\"float\"))\n",
    "\n"
   ]
  },
  {
   "cell_type": "code",
   "execution_count": 14,
   "id": "80b720b5",
   "metadata": {},
   "outputs": [
    {
     "data": {
      "text/plain": [
       "'4DPlot.html'"
      ]
     },
     "execution_count": 14,
     "metadata": {},
     "output_type": "execute_result"
    }
   ],
   "source": [
    "#Read cars data from csv\n",
    "#data = pd.read_csv(\"cars.csv\")\n",
    "\n",
    "#Set marker properties\n",
    "markercolor = iris.data[:,3]\n",
    "\n",
    "#Make Plotly figure\n",
    "fig1 = go.Scatter3d(x= iris.data[:,0],\n",
    "                    y= iris.data[:,1],\n",
    "                    z= iris.data[:,2],\n",
    "                    marker=dict(color=markercolor,\n",
    "                                opacity=1,\n",
    "                                reversescale=True,\n",
    "                                colorscale='Blues',\n",
    "                                size=5),\n",
    "                    line=dict (width=0.02),\n",
    "                    mode='markers')\n",
    "\n",
    "#Make Plot.ly Layout\n",
    "mylayout = go.Layout(scene=dict(xaxis=dict( title=iris.feature_names[0]),\n",
    "                                yaxis=dict( title=iris.feature_names[1]),\n",
    "                                zaxis=dict(title=iris.feature_names[2])),)\n",
    "\n",
    "#Plot and save html\n",
    "plotly.offline.plot({\"data\": [fig1],\n",
    "                     \"layout\": mylayout},\n",
    "                     auto_open=True,\n",
    "                     filename=(\"4DPlot.html\"))\n"
   ]
  },
  {
   "cell_type": "code",
   "execution_count": 17,
   "id": "8a898d87",
   "metadata": {},
   "outputs": [
    {
     "data": {
      "text/plain": [
       "'4DPlot.html'"
      ]
     },
     "execution_count": 17,
     "metadata": {},
     "output_type": "execute_result"
    }
   ],
   "source": [
    "#Read cars data from csv\n",
    "\n",
    "#Set marker properties\n",
    "markercolor = WINE.data[:,3]\n",
    "\n",
    "#Make Plotly figure\n",
    "fig1 = go.Scatter3d(x= WINE.data[:,0],\n",
    "                    y= WINE.data[:,1],\n",
    "                    z= WINE.data[:,2],\n",
    "                    marker=dict(color=markercolor,\n",
    "                                opacity=1,\n",
    "                                reversescale=True,\n",
    "                                colorscale='Blues',\n",
    "                                size=5),\n",
    "                    line=dict (width=0.02),\n",
    "                    mode='markers')\n",
    "\n",
    "#Make Plot.ly Layout\n",
    "mylayout = go.Layout(scene=dict(xaxis=dict( title=WINE.feature_names[0]),\n",
    "                                yaxis=dict( title=WINE.feature_names[1]),\n",
    "                                zaxis=dict(title=WINE.feature_names[2])),)\n",
    "\n",
    "#Plot and save html\n",
    "plotly.offline.plot({\"data\": [fig1],\n",
    "                     \"layout\": mylayout},\n",
    "                     auto_open=True,\n",
    "                     filename=(\"4DPlot.html\"))"
   ]
  },
  {
   "cell_type": "code",
   "execution_count": null,
   "id": "0acb6999",
   "metadata": {},
   "outputs": [],
   "source": []
  }
 ],
 "metadata": {
  "kernelspec": {
   "display_name": "Python 3 (ipykernel)",
   "language": "python",
   "name": "python3"
  },
  "language_info": {
   "codemirror_mode": {
    "name": "ipython",
    "version": 3
   },
   "file_extension": ".py",
   "mimetype": "text/x-python",
   "name": "python",
   "nbconvert_exporter": "python",
   "pygments_lexer": "ipython3",
   "version": "3.9.7"
  }
 },
 "nbformat": 4,
 "nbformat_minor": 5
}
